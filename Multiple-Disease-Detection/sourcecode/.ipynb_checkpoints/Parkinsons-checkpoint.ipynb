{
 "cells": [
  {
   "cell_type": "code",
   "execution_count": 1,
   "metadata": {},
   "outputs": [
    {
     "name": "stdout",
     "output_type": "stream",
     "text": [
      "Requirement already satisfied: matplotlib in c:\\users\\karti\\anaconda3\\envs\\diseasedetection\\lib\\site-packages (3.7.1)\n",
      "Requirement already satisfied: fonttools>=4.22.0 in c:\\users\\karti\\anaconda3\\envs\\diseasedetection\\lib\\site-packages (from matplotlib) (4.39.3)\n",
      "Requirement already satisfied: kiwisolver>=1.0.1 in c:\\users\\karti\\anaconda3\\envs\\diseasedetection\\lib\\site-packages (from matplotlib) (1.4.4)\n",
      "Requirement already satisfied: pillow>=6.2.0 in c:\\users\\karti\\anaconda3\\envs\\diseasedetection\\lib\\site-packages (from matplotlib) (9.5.0)\n",
      "Requirement already satisfied: cycler>=0.10 in c:\\users\\karti\\anaconda3\\envs\\diseasedetection\\lib\\site-packages (from matplotlib) (0.11.0)\n",
      "Requirement already satisfied: contourpy>=1.0.1 in c:\\users\\karti\\anaconda3\\envs\\diseasedetection\\lib\\site-packages (from matplotlib) (1.0.7)\n",
      "Requirement already satisfied: python-dateutil>=2.7 in c:\\users\\karti\\anaconda3\\envs\\diseasedetection\\lib\\site-packages (from matplotlib) (2.8.2)\n",
      "Requirement already satisfied: pyparsing>=2.3.1 in c:\\users\\karti\\anaconda3\\envs\\diseasedetection\\lib\\site-packages (from matplotlib) (3.0.9)\n",
      "Requirement already satisfied: packaging>=20.0 in c:\\users\\karti\\anaconda3\\envs\\diseasedetection\\lib\\site-packages (from matplotlib) (23.0)\n",
      "Requirement already satisfied: numpy>=1.20 in c:\\users\\karti\\anaconda3\\envs\\diseasedetection\\lib\\site-packages (from matplotlib) (1.24.2)\n",
      "Requirement already satisfied: six>=1.5 in c:\\users\\karti\\anaconda3\\envs\\diseasedetection\\lib\\site-packages (from python-dateutil>=2.7->matplotlib) (1.16.0)\n",
      "Note: you may need to restart the kernel to use updated packages.\n"
     ]
    }
   ],
   "source": [
    "pip install matplotlib"
   ]
  },
  {
   "cell_type": "code",
   "execution_count": 2,
   "metadata": {},
   "outputs": [
    {
     "ename": "ModuleNotFoundError",
     "evalue": "No module named 'seaborn'",
     "output_type": "error",
     "traceback": [
      "\u001b[1;31m---------------------------------------------------------------------------\u001b[0m",
      "\u001b[1;31mModuleNotFoundError\u001b[0m                       Traceback (most recent call last)",
      "Cell \u001b[1;32mIn[2], line 8\u001b[0m\n\u001b[0;32m      6\u001b[0m \u001b[38;5;28;01mfrom\u001b[39;00m \u001b[38;5;21;01msklearn\u001b[39;00m\u001b[38;5;21;01m.\u001b[39;00m\u001b[38;5;21;01mensemble\u001b[39;00m \u001b[38;5;28;01mimport\u001b[39;00m RandomForestClassifier\n\u001b[0;32m      7\u001b[0m \u001b[38;5;28;01mimport\u001b[39;00m \u001b[38;5;21;01mmatplotlib\u001b[39;00m\u001b[38;5;21;01m.\u001b[39;00m\u001b[38;5;21;01mpyplot\u001b[39;00m \u001b[38;5;28;01mas\u001b[39;00m \u001b[38;5;21;01mplt\u001b[39;00m\n\u001b[1;32m----> 8\u001b[0m \u001b[38;5;28;01mimport\u001b[39;00m \u001b[38;5;21;01mseaborn\u001b[39;00m \u001b[38;5;28;01mas\u001b[39;00m \u001b[38;5;21;01msns\u001b[39;00m\n\u001b[0;32m      9\u001b[0m \u001b[38;5;28;01mimport\u001b[39;00m \u001b[38;5;21;01mstreamlit\u001b[39;00m\n\u001b[0;32m     10\u001b[0m \u001b[38;5;28;01mfrom\u001b[39;00m \u001b[38;5;21;01mxgboost\u001b[39;00m \u001b[38;5;28;01mimport\u001b[39;00m XGBClassifier\n",
      "\u001b[1;31mModuleNotFoundError\u001b[0m: No module named 'seaborn'"
     ]
    }
   ],
   "source": [
    "import numpy as np\n",
    "import pandas as pd\n",
    "from sklearn.svm import SVC\n",
    "from sklearn.model_selection import train_test_split, cross_val_score, KFold\n",
    "from sklearn.metrics import accuracy_score, confusion_matrix\n",
    "from sklearn.ensemble import RandomForestClassifier\n",
    "import matplotlib.pyplot as plt\n",
    "import seaborn as sns\n",
    "import streamlit\n",
    "from xgboost import XGBClassifier\n",
    "from sklearn.ensemble import VotingClassifier"
   ]
  },
  {
   "cell_type": "code",
   "execution_count": null,
   "metadata": {},
   "outputs": [],
   "source": [
    "parkinsons_data = pd.read_csv('../datasets/parkinsson_disease.csv')"
   ]
  },
  {
   "cell_type": "code",
   "execution_count": null,
   "metadata": {},
   "outputs": [],
   "source": [
    "parkinsons_data.head()"
   ]
  },
  {
   "cell_type": "code",
   "execution_count": null,
   "metadata": {},
   "outputs": [],
   "source": [
    "parkinsons_data.shape"
   ]
  },
  {
   "cell_type": "code",
   "execution_count": null,
   "metadata": {},
   "outputs": [],
   "source": [
    "parkinsons_data.info()"
   ]
  },
  {
   "cell_type": "code",
   "execution_count": null,
   "metadata": {},
   "outputs": [],
   "source": [
    "parkinsons_data.isnull().sum()"
   ]
  },
  {
   "cell_type": "code",
   "execution_count": null,
   "metadata": {},
   "outputs": [],
   "source": [
    "parkinsons_data['status'].value_counts()"
   ]
  },
  {
   "cell_type": "code",
   "execution_count": null,
   "metadata": {},
   "outputs": [],
   "source": [
    "X = parkinsons_data.drop([\"status\",\"name\"], axis=1)\n",
    "y = parkinsons_data[\"status\"]\n",
    "xTrain, xTest, yTrain, yTest = train_test_split(X, y, test_size=0.2, random_state=42)"
   ]
  },
  {
   "cell_type": "code",
   "execution_count": null,
   "metadata": {},
   "outputs": [],
   "source": [
    "X"
   ]
  },
  {
   "cell_type": "code",
   "execution_count": null,
   "metadata": {},
   "outputs": [],
   "source": [
    "xTest"
   ]
  },
  {
   "cell_type": "code",
   "execution_count": null,
   "metadata": {},
   "outputs": [],
   "source": [
    "y"
   ]
  },
  {
   "cell_type": "code",
   "execution_count": null,
   "metadata": {},
   "outputs": [],
   "source": [
    "yTest"
   ]
  },
  {
   "cell_type": "code",
   "execution_count": null,
   "metadata": {},
   "outputs": [],
   "source": [
    "rf_model = RandomForestClassifier(random_state=42)\n",
    "svm_model = SVC(random_state=42)\n",
    "xgb_model = XGBClassifier()\n",
    "\n",
    "kfold = KFold(n_splits=5, shuffle=True, random_state=42)\n",
    "\n",
    "rf_scores = cross_val_score(rf_model, X, y, cv=kfold)\n",
    "print(f\"Random Forest CV Scores: {rf_scores}\")\n",
    "print(f\"Random Forest CV Mean Score: {rf_scores.mean()}\")\n",
    "print(\"--\"*40)\n",
    "\n",
    "svm_scores = cross_val_score(svm_model, X, y, cv=kfold)\n",
    "print(f\"SVM CV Scores: {svm_scores}\")\n",
    "print(f\"SVM CV Mean Score: {svm_scores.mean()}\")\n",
    "print(\"--\"*40)\n",
    "\n",
    "xgb_scores = cross_val_score(xgb_model, X, y, cv=kfold)\n",
    "print(f\"XGBoost CV Scores: {xgb_scores}\")\n",
    "print(f\"XGBoost CV Mean Score: {xgb_scores.mean()}\")\n",
    "print(\"--\"*40)"
   ]
  },
  {
   "cell_type": "markdown",
   "metadata": {},
   "source": [
    "Applying the Support Vector Machine Model"
   ]
  },
  {
   "cell_type": "code",
   "execution_count": null,
   "metadata": {},
   "outputs": [],
   "source": [
    "svm_model.fit(xTrain, yTrain)\n",
    "preds_test = svm_model.predict(xTest)\n",
    "preds_train = svm_model.predict(xTrain)\n",
    "\n",
    "print(f\"Accuracy on train data by SVM Classifier\\\n",
    ": {accuracy_score(yTrain, svm_model.predict(xTrain))*100}\")\n",
    "cf_matrix_train = confusion_matrix(yTrain, preds_train)\n",
    "plt.figure(figsize=(6,4))\n",
    "sns.heatmap(cf_matrix_train, annot=True, cmap='Blues')\n",
    "plt.title(\"Confusion Matrix on train data for SVM Classifier\")\n",
    "plt.show()\n",
    "\n",
    "print(f\"Accuracy on test data by SVM Classifier\\\n",
    ": {accuracy_score(yTest, preds_test)*100}\")\n",
    "cf_matrix = confusion_matrix(yTest, preds_test)\n",
    "plt.figure(figsize=(6,4))\n",
    "sns.heatmap(cf_matrix, annot=True, cmap='Blues')\n",
    "plt.title(\"Confusion Matrix on test data for SVM Classifier\")\n",
    "plt.show()"
   ]
  },
  {
   "cell_type": "code",
   "execution_count": null,
   "metadata": {},
   "outputs": [],
   "source": [
    "rf_model.fit(xTrain, yTrain)\n",
    "preds_test = rf_model.predict(xTest)\n",
    "preds_train = rf_model.predict(xTrain)\n",
    "\n",
    "print(f\"Accuracy on train data by Random Forest Classifier\\\n",
    ": {accuracy_score(yTrain, rf_model.predict(xTrain))*100}\")\n",
    "\n",
    "cf_matrix_train = confusion_matrix(yTrain, preds_train)\n",
    "plt.figure(figsize=(6,4))\n",
    "sns.heatmap(cf_matrix_train, annot=True, cmap='Blues')\n",
    "plt.title(\"Confusion Matrix on train data for Random Forset Classifier\")\n",
    "plt.show()\n",
    "\n",
    "print(f\"Accuracy on test data by Random Forest Classifier\\\n",
    ": {accuracy_score(yTest, preds_test)*100}\")\n",
    "\n",
    "cf_matrix = confusion_matrix(yTest, preds_test)\n",
    "plt.figure(figsize=(6,4))\n",
    "sns.heatmap(cf_matrix, annot=True, cmap='Blues')\n",
    "plt.title(\"Confusion Matrix on test data for Random Forest Classifier\")\n",
    "plt.show()"
   ]
  },
  {
   "cell_type": "code",
   "execution_count": null,
   "metadata": {},
   "outputs": [],
   "source": [
    "xgb_model.fit(xTrain, yTrain)\n",
    "predict_test = xgb_model.predict(xTest)\n",
    "predict_train = xgb_model.predict(xTrain)\n",
    "\n",
    "print(f\"Accuracy on the train data XGBoost Classifier : {accuracy_score(yTrain, xgb_model.predict(xTrain)) * 100}\")\n",
    "cf_matrix_train = confusion_matrix(yTrain, predict_train)\n",
    "plt.figure(figsize=(6,4))\n",
    "sns.heatmap(cf_matrix_train, annot=True, cmap='Blues')\n",
    "plt.title(\"Confusion Matrix on train data for SVM Classifier\")\n",
    "plt.show()\n",
    "\n",
    "print(f\"Accuracy on the test data by XGBoost Classifier: {accuracy_score(yTest, predict_test) * 100}\")\n",
    "\n",
    "cf_matrix = confusion_matrix(yTest, preds_test)\n",
    "plt.figure(figsize=(6, 4))\n",
    "sns.heatmap(cf_matrix, annot=True, cmap='Blues')\n",
    "plt.title(\"Confusion Matrix on test for XGBoost Classifier\")\n",
    "plt.show()"
   ]
  },
  {
   "cell_type": "markdown",
   "metadata": {},
   "source": [
    "Applying the combined model"
   ]
  },
  {
   "cell_type": "code",
   "execution_count": null,
   "metadata": {},
   "outputs": [],
   "source": [
    "input_data = (199.22800,209.51200,192.09100,0.00241,0.00001,0.00134,0.00138,0.00402,0.01015,0.08900,0.00504,0.00641,0.00762,0.01513,0.00167,30.94000,0.432439,0.742055,-7.682587,0.173319,2.103106,0.068501)\n",
    "\n",
    "input_data = np.asarray(input_data)\n",
    "\n",
    "input_data_reshaped = input_data.reshape(1, -1)"
   ]
  },
  {
   "cell_type": "code",
   "execution_count": null,
   "metadata": {},
   "outputs": [],
   "source": [
    "input_data"
   ]
  },
  {
   "cell_type": "code",
   "execution_count": null,
   "metadata": {},
   "outputs": [],
   "source": [
    "input_data_reshaped"
   ]
  },
  {
   "cell_type": "code",
   "execution_count": null,
   "metadata": {},
   "outputs": [],
   "source": [
    "svm_model = SVC(probability=True)\n",
    "rf_model = RandomForestClassifier()\n",
    "xgb_model = XGBClassifier()\n",
    "\n",
    "result = VotingClassifier(estimators=[('svm', svm_model), ('rf', rf_model), ('xgb', xgb_model)], voting='soft')\n",
    "\n",
    "result.fit(xTrain, yTrain)\n",
    "prediction = result.predict(input_data_reshaped)\n",
    "\n",
    "if prediction[0] == 0:\n",
    "    print(\"The person is diseased with Parkinson's disease\")\n",
    "else:\n",
    "    print(\"The person is not diseased with Parkinson's disease\")"
   ]
  },
  {
   "cell_type": "markdown",
   "metadata": {},
   "source": [
    "Saving the trained model"
   ]
  },
  {
   "cell_type": "code",
   "execution_count": null,
   "metadata": {},
   "outputs": [],
   "source": [
    "import pickle"
   ]
  },
  {
   "cell_type": "code",
   "execution_count": null,
   "metadata": {},
   "outputs": [],
   "source": [
    "filename = '../models/trained_model.sav'\n",
    "pickle.dump(result, open(filename, 'wb'))"
   ]
  },
  {
   "cell_type": "markdown",
   "metadata": {},
   "source": [
    "Loading the saved model"
   ]
  },
  {
   "cell_type": "code",
   "execution_count": null,
   "metadata": {},
   "outputs": [],
   "source": [
    "loaded_model = pickle.load(open('../models/trained_model.sav', 'rb'))"
   ]
  },
  {
   "cell_type": "code",
   "execution_count": null,
   "metadata": {},
   "outputs": [],
   "source": [
    "input_data = (199.22800,209.51200,192.09100,0.00241,0.00001,0.00134,0.00138,0.00402,0.01015,0.08900,0.00504,0.00641,0.00762,0.01513,0.00167,30.94000,0.432439,0.742055,-7.682587,0.173319,2.103106,0.068501)\n",
    "\n",
    "input_data = np.asarray(input_data)\n",
    "\n",
    "input_data_reshaped = input_data.reshape(1, -1)\n",
    "\n",
    "result = loaded_model.predict(input_data_reshaped)\n",
    "\n",
    "if result[0] == 0:\n",
    "    print(\"The person dose not have Parkinson's Disease\")\n",
    "else:\n",
    "    print(\"The person has Parkinson's Disease\")"
   ]
  }
 ],
 "metadata": {
  "kernelspec": {
   "display_name": "Python 3 (ipykernel)",
   "language": "python",
   "name": "python3"
  },
  "language_info": {
   "codemirror_mode": {
    "name": "ipython",
    "version": 3
   },
   "file_extension": ".py",
   "mimetype": "text/x-python",
   "name": "python",
   "nbconvert_exporter": "python",
   "pygments_lexer": "ipython3",
   "version": "3.10.10"
  }
 },
 "nbformat": 4,
 "nbformat_minor": 1
}
